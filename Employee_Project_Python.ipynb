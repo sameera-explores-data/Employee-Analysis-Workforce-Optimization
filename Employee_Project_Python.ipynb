{
 "cells": [
  {
   "cell_type": "markdown",
   "id": "380f2e4c-646b-4eec-aee4-523ba246e9cc",
   "metadata": {},
   "source": [
    "# Employee Project"
   ]
  },
  {
   "cell_type": "markdown",
   "id": "41fba846-00ea-409d-a8c0-0105d434bb38",
   "metadata": {},
   "source": [
    "### Import the necessary libary\n",
    "### Import the cleaned dataset"
   ]
  },
  {
   "cell_type": "code",
   "execution_count": 1,
   "id": "31bdf9a8-5e58-4042-82a1-13de2676eba5",
   "metadata": {},
   "outputs": [],
   "source": [
    "import pandas as pd"
   ]
  },
  {
   "cell_type": "code",
   "execution_count": 2,
   "id": "1e4dc970-8775-49fd-a6f1-8eb97a714fb0",
   "metadata": {},
   "outputs": [],
   "source": [
    "# load the cleaned dataset\n",
    "data = pd.read_csv(\"C:/Users/DELL/Documents/Downloaded data/New/Employee/Employee cleaned dataset.csv\")"
   ]
  },
  {
   "cell_type": "markdown",
   "id": "ef973851-36cd-4223-961e-cbb755166161",
   "metadata": {},
   "source": [
    "###  Use Python to calculate employee tenure."
   ]
  },
  {
   "cell_type": "code",
   "execution_count": 3,
   "id": "7dab8a43-6345-4dfa-8445-a0f136fa9122",
   "metadata": {},
   "outputs": [
    {
     "name": "stdout",
     "output_type": "stream",
     "text": [
      "  employee_id  age  age_when_joined  calculated_tenure\n",
      "0      E00001   41               38                  3\n",
      "1      E00002   44               42                  2\n",
      "2      E00003   41               40                  1\n",
      "3      E00004   39               32                  7\n",
      "4      E00005   30               22                  8\n"
     ]
    }
   ],
   "source": [
    "# Calculate tenure\n",
    "data['calculated_tenure'] = data['age'] - data['age_when_joined']\n",
    "\n",
    "# Preview results\n",
    "print(data[['employee_id', 'age', 'age_when_joined', 'calculated_tenure']].head())\n"
   ]
  },
  {
   "cell_type": "markdown",
   "id": "3fd069b4-763b-410d-aa6d-6a8a2bb889db",
   "metadata": {},
   "source": [
    "###  Perform statistical analysis on average tenure by department, age group, or gender."
   ]
  },
  {
   "cell_type": "code",
   "execution_count": 4,
   "id": "e723546d-568b-4c2c-bdad-a671a3b3df11",
   "metadata": {},
   "outputs": [
    {
     "name": "stdout",
     "output_type": "stream",
     "text": [
      " Average Tenure by Department:\n",
      "                   count  mean   std  min  max\n",
      "department                                   \n",
      "Customer Support    821  4.87  2.89   -4   12\n",
      "Engineering         907  4.60  2.87   -3   13\n",
      "Finance             819  4.68  2.96   -4   13\n",
      "HR                  842  4.50  2.96   -4   14\n",
      "Marketing           821  4.56  2.98   -5   13\n",
      "Sales               790  4.56  3.00   -5   16\n",
      "\n",
      " Average Tenure by Age Group:\n",
      "            count  mean   std  min  max\n",
      "age_group                             \n",
      "30–35       2713  5.53  2.76   -5   13\n",
      "36–40        267  4.46  2.97   -3   16\n",
      "41–45       1641  3.73  2.82   -5   13\n",
      "\n",
      " Average Tenure by Gender:\n",
      "              count  mean   std  min  max\n",
      "Gender                                  \n",
      "Female        1298  4.54  2.98   -4   13\n",
      "Male          1268  4.61  2.96   -4   13\n",
      "Non Binary    1193  4.62  2.88   -5   13\n",
      "Transgender   1241  4.74  2.95   -5   16\n"
     ]
    },
    {
     "name": "stderr",
     "output_type": "stream",
     "text": [
      "C:\\Users\\DELL\\AppData\\Local\\Temp\\ipykernel_6516\\1028261911.py:11: FutureWarning: The default of observed=False is deprecated and will be changed to True in a future version of pandas. Pass observed=False to retain current behavior or observed=True to adopt the future default and silence this warning.\n",
      "  tenure_by_age_group = data.groupby('age_group')['calculated_tenure'].agg(['count', 'mean', 'std', 'min', 'max']).round(2)\n"
     ]
    }
   ],
   "source": [
    "# Create age group column\n",
    "bins = [ 30, 39, 40, 49]\n",
    "labels = ['30–35', '36–40', '41–45']\n",
    "data['age_group'] = pd.cut(data['age'], bins=bins, labels=labels, right=False)\n",
    "\n",
    "# Statistical summary by department\n",
    "tenure_by_dept = data.groupby('department')['calculated_tenure'].agg(['count', 'mean', 'std', 'min', 'max']).round(2)\n",
    "print(\" Average Tenure by Department:\\n\", tenure_by_dept)\n",
    "\n",
    "# Statistical summary by age group\n",
    "tenure_by_age_group = data.groupby('age_group')['calculated_tenure'].agg(['count', 'mean', 'std', 'min', 'max']).round(2)\n",
    "print(\"\\n Average Tenure by Age Group:\\n\", tenure_by_age_group)\n",
    "\n",
    "# Statistical summary by gender\n",
    "tenure_by_gender = data.groupby('Gender')['calculated_tenure'].agg(['count', 'mean', 'std', 'min', 'max']).round(2)\n",
    "print(\"\\n Average Tenure by Gender:\\n\", tenure_by_gender)\n"
   ]
  },
  {
   "cell_type": "code",
   "execution_count": 11,
   "id": "dc3fd0bd-c6fd-4d4f-8c77-7054154f7b46",
   "metadata": {},
   "outputs": [
    {
     "name": "stdout",
     "output_type": "stream",
     "text": [
      "     employee_id    company   department  age  age_when_joined  \\\n",
      "4044      E04045   FinServe        Sales   34               39   \n",
      "1316      E01317   FinServe    Marketing   42               47   \n",
      "3753      E03754   TechCorp    Marketing   31               35   \n",
      "1544      E01545    EduSoft      Finance   43               47   \n",
      "94        E00095   TechCorp        Sales   42               46   \n",
      "...          ...        ...          ...  ...              ...   \n",
      "2497      E02498  HealthInc  Engineering   45               32   \n",
      "1374      E01375  RetailHub  Engineering   36               23   \n",
      "286       E00287   FinServe      Finance   43               30   \n",
      "2602      E02603  RetailHub           HR   39               25   \n",
      "946       E00947  HealthInc        Sales   39               23   \n",
      "\n",
      "      years_in_the_company        salary  annual_bonus  \\\n",
      "4044                     1   67220.26143   19621.05410   \n",
      "1316                     1  120910.63900   16441.08213   \n",
      "3753                     1   69211.59535   22251.87063   \n",
      "1544                     1   63121.88188   14226.84741   \n",
      "94                       1  115849.85280   22771.19889   \n",
      "...                    ...           ...           ...   \n",
      "2497                     9   79736.68965   16314.46138   \n",
      "1374                     9   70028.80767   14511.58955   \n",
      "286                      9   67504.93160    9000.00000   \n",
      "2602                     9   93133.48212   18845.15869   \n",
      "946                      9   93490.23653   15371.06748   \n",
      "\n",
      "      prior_years_experience  full_time  part_time       Gender  \\\n",
      "4044                       3   0.000000   0.000000   Non Binary   \n",
      "1316                       4   0.388989   0.020145  Transgender   \n",
      "3753                       4   0.261076   0.000000   Non Binary   \n",
      "1544                       4   0.000000   0.226413       Female   \n",
      "94                         2   0.470187   0.018964   Non Binary   \n",
      "...                      ...        ...        ...          ...   \n",
      "2497                       2   0.615167   0.870309  Transgender   \n",
      "1374                       2   0.283675   0.894730       Female   \n",
      "286                        4   0.191199   1.000000         Male   \n",
      "2602                       1   0.343420   0.567934  Transgender   \n",
      "946                        1   0.422636   1.000000  Transgender   \n",
      "\n",
      "        education_level           ethnicity diversity_flag     Position  \\\n",
      "4044    Master's Degree  Hispanic or Latino            Yes       Senior   \n",
      "1316        High School   Prefer not to say            Yes    Mid Level   \n",
      "3753  Bachelor's Degree               White             No    Mid Level   \n",
      "1544                PhD  Hispanic or Latino            Yes       Senior   \n",
      "94    Bachelor's Degree  Hispanic or Latino             No    Executive   \n",
      "...                 ...                 ...            ...          ...   \n",
      "2497                PhD   Prefer not to say             No  Entry Level   \n",
      "1374    Master's Degree               Asian             No    Mid Level   \n",
      "286   Bachelor's Degree  Hispanic or Latino            Yes  Entry Level   \n",
      "2602   Associate Degree   Prefer not to say             No    Mid Level   \n",
      "946     Master's Degree               White             No  Entry Level   \n",
      "\n",
      "     fulltime parttime  calculated_tenure age_group  \n",
      "4044       No       No                 -5     26–30  \n",
      "1316       No       No                 -5     36–40  \n",
      "3753       No       No                 -4     26–30  \n",
      "1544       No       No                 -4     36–40  \n",
      "94         No       No                 -4     36–40  \n",
      "...       ...      ...                ...       ...  \n",
      "2497      Yes      Yes                 13       NaN  \n",
      "1374       No      Yes                 13     26–30  \n",
      "286        No      Yes                 13     36–40  \n",
      "2602       No      Yes                 14     26–30  \n",
      "946        No      Yes                 16     26–30  \n",
      "\n",
      "[5000 rows x 20 columns]\n"
     ]
    }
   ],
   "source": [
    "print(data.sort_values(by='calculated_tenure'))"
   ]
  },
  {
   "cell_type": "markdown",
   "id": "14095bd1-2dc8-462b-b710-169b627e3a05",
   "metadata": {},
   "source": [
    "### Import necessary library for the correlation"
   ]
  },
  {
   "cell_type": "code",
   "execution_count": 5,
   "id": "b4eb8e9f-eeca-4743-8cde-31f3ee473923",
   "metadata": {},
   "outputs": [],
   "source": [
    "import seaborn as sns\n",
    "import matplotlib.pyplot as plt"
   ]
  },
  {
   "cell_type": "code",
   "execution_count": 6,
   "id": "10581c0f-f27d-4901-a246-0634b6a2ce8c",
   "metadata": {},
   "outputs": [
    {
     "name": "stdout",
     "output_type": "stream",
     "text": [
      "Index(['employee_id', 'company', 'department', 'age', 'age_when_joined',\n",
      "       'years_in_the_company', 'salary', 'annual_bonus',\n",
      "       'prior_years_experience', 'full_time', 'part_time', 'Gender',\n",
      "       'education_level', 'ethnicity', 'diversity_flag', 'Position',\n",
      "       'fulltime', 'parttime', 'calculated_tenure', 'age_group'],\n",
      "      dtype='object')\n",
      "Correlation Matrix:\n",
      "                         age    salary  performance_score\n",
      "age                1.000000  0.039504          -0.000561\n",
      "salary             0.039504  1.000000          -0.021182\n",
      "performance_score -0.000561 -0.021182           1.000000\n"
     ]
    },
    {
     "data": {
      "image/png": "[encoded data removed]",
      "text/plain": [
       "<Figure size 640x480 with 2 Axes>"
      ]
     },
     "metadata": {},
     "output_type": "display_data"
    }
   ],
   "source": [
    "# Check available columns\n",
    "print(data.columns)\n",
    "\n",
    "# If performance column is missing, create a simulated one (example only)\n",
    "import numpy as np\n",
    "np.random.seed(42)\n",
    "data['performance_score'] = np.random.randint(1, 6, size=len(data))  # Scores between 1 and 5\n",
    "\n",
    "# Select relevant numeric columns\n",
    "corr_data = data[['age', 'salary', 'performance_score']]\n",
    "\n",
    "# Calculate correlation matrix\n",
    "correlation_matrix = corr_data.corr()\n",
    "print(\"Correlation Matrix:\\n\", correlation_matrix)\n",
    "\n",
    "# Visualize with a heatmap\n",
    "sns.heatmap(correlation_matrix, annot=True, cmap='coolwarm')\n",
    "plt.title('Correlation Between Age, Salary, and Performance')\n",
    "plt.show()\n"
   ]
  },
  {
   "cell_type": "code",
   "execution_count": 7,
   "id": "e97ed185-d05e-4e16-b97e-9534fac4edcd",
   "metadata": {},
   "outputs": [
    {
     "name": "stdout",
     "output_type": "stream",
     "text": [
      "     employee_id    company        department  age  age_when_joined  \\\n",
      "0         E00001   FinServe  Customer Support   41               38   \n",
      "1         E00002  RetailHub  Customer Support   44               42   \n",
      "2         E00003    EduSoft       Engineering   41               40   \n",
      "3         E00004  RetailHub           Finance   39               32   \n",
      "4         E00005  RetailHub         Marketing   30               22   \n",
      "...          ...        ...               ...  ...              ...   \n",
      "4995      E04996   FinServe                HR   42               35   \n",
      "4996      E04997   FinServe       Engineering   36               25   \n",
      "4997      E04998  RetailHub         Marketing   35               30   \n",
      "4998      E04999   FinServe                HR   49               48   \n",
      "4999      E05000  RetailHub       Engineering   43               38   \n",
      "\n",
      "      years_in_the_company        salary  annual_bonus  \\\n",
      "0                        3   68074.97135   17664.10410   \n",
      "1                        2   49092.14746   21551.14108   \n",
      "2                        1   40000.00000   23698.87885   \n",
      "3                        7  108192.46550   21570.92966   \n",
      "4                        9   71291.19113   21565.50572   \n",
      "...                    ...           ...           ...   \n",
      "4995                     7   76541.84150   17366.89612   \n",
      "4996                     9  113651.48510   20888.14479   \n",
      "4997                     5   77560.04756   24792.91000   \n",
      "4998                     1  153000.00000   11700.85033   \n",
      "4999                     5   91443.50495   13529.04066   \n",
      "\n",
      "      prior_years_experience  full_time  ...      Gender    education_level  \\\n",
      "0                          3   0.000000  ...      Female                PhD   \n",
      "1                          2   0.000000  ...  Non Binary    Master's Degree   \n",
      "2                          2   0.000000  ...  Non Binary    Master's Degree   \n",
      "3                          1   0.930396  ...        Male    Master's Degree   \n",
      "4                          2   0.525432  ...        Male  Bachelor's Degree   \n",
      "...                      ...        ...  ...         ...                ...   \n",
      "4995                       2   0.269842  ...  Non Binary  Bachelor's Degree   \n",
      "4996                       1   0.356024  ...  Non Binary  Bachelor's Degree   \n",
      "4997                       2   0.179350  ...        Male                PhD   \n",
      "4998                       4   1.000000  ...      Female        High School   \n",
      "4999                       4   0.755094  ...        Male   Associate Degree   \n",
      "\n",
      "                      ethnicity diversity_flag     Position fulltime parttime  \\\n",
      "0     Black or African American             No    Mid Level       No       No   \n",
      "1     Black or African American            Yes       Senior       No       No   \n",
      "2             Prefer not to say            Yes    Mid Level       No      Yes   \n",
      "3                         White             No       Senior      Yes      Yes   \n",
      "4             Prefer not to say             No       Senior      Yes      Yes   \n",
      "...                         ...            ...          ...      ...      ...   \n",
      "4995          Prefer not to say             No       Senior       No      Yes   \n",
      "4996  Black or African American             No       Senior       No       No   \n",
      "4997          Prefer not to say             No  Entry Level       No       No   \n",
      "4998                      Other             No    Executive      Yes       No   \n",
      "4999         Hispanic or Latino             No    Executive      Yes       No   \n",
      "\n",
      "     calculated_tenure  age_group performance_score  \n",
      "0                    3      41–45                 4  \n",
      "1                    2      41–45                 5  \n",
      "2                    1      41–45                 3  \n",
      "3                    7      36–40                 5  \n",
      "4                    8      30–35                 5  \n",
      "...                ...        ...               ...  \n",
      "4995                 7      41–45                 4  \n",
      "4996                11      30–35                 4  \n",
      "4997                 5      30–35                 5  \n",
      "4998                 1        NaN                 4  \n",
      "4999                 5      41–45                 5  \n",
      "\n",
      "[5000 rows x 21 columns]\n"
     ]
    }
   ],
   "source": [
    "print(data)"
   ]
  },
  {
   "cell_type": "code",
   "execution_count": null,
   "id": "7420d370-a829-4579-868c-bec55feed8b7",
   "metadata": {},
   "outputs": [],
   "source": []
  }
 ],
 "metadata": {
  "kernelspec": {
   "display_name": "Python 3 (ipykernel)",
   "language": "python",
   "name": "python3"
  },
  "language_info": {
   "codemirror_mode": {
    "name": "ipython",
    "version": 3
   },
   "file_extension": ".py",
   "mimetype": "text/x-python",
   "name": "python",
   "nbconvert_exporter": "python",
   "pygments_lexer": "ipython3",
   "version": "3.11.7"
  }
 },
 "nbformat": 4,
 "nbformat_minor": 5
}
